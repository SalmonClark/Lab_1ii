{
 "cells": [
  {
   "attachments": {
    "184cd8ca-0c8b-4349-9ff5-4f1e411cc7cc.png": {
     "image/png": "[encoded data removed]"
    }
   },
   "cell_type": "markdown",
   "id": "5f32678c-4305-45b6-b8ec-c0cd24c516b5",
   "metadata": {},
   "source": [
    "Теорема Грина для плоской области:\n",
    "![2025-06-04_10-45-30.png](attachment:184cd8ca-0c8b-4349-9ff5-4f1e411cc7cc.png)"
   ]
  },
  {
   "cell_type": "code",
   "execution_count": 8,
   "id": "976ebfcd-0260-4429-81c7-c99294cfc0e7",
   "metadata": {},
   "outputs": [
    {
     "name": "stdout",
     "output_type": "stream",
     "text": [
      "Подынтегральное выражение для теоремы Грина (∂Q/∂x - ∂P/∂y):\n",
      "2\n",
      "\n",
      "Двойной интеграл по области D (круг радиуса 1):\n",
      "2⋅π\n",
      "\n",
      "Криволинейный интеграл по окружности:\n",
      "2⋅π\n",
      "\n",
      "Численное значение двойного интеграла: 6.28318530717959\n",
      "Численное значение криволинейного интеграла: 6.28318530717959\n",
      "\n",
      "Равенство интегралов подтверждается: True\n"
     ]
    }
   ],
   "source": [
    "import sympy as sp\n",
    "\n",
    "# Объявляем переменные\n",
    "x, y, t = sp.symbols('x y t')\n",
    "\n",
    "# Определяем компоненты векторного поля\n",
    "P = x**2 - y\n",
    "Q = y**2 + x\n",
    "\n",
    "# Формула для подынтегрального выражения (левая часть теоремы Грина)\n",
    "integrand = sp.diff(Q, x) - sp.diff(P, y)\n",
    "\n",
    "# Вычисляем двойной интеграл по области D (круг радиуса 1)\n",
    "# Используем полярные координаты для удобства\n",
    "r, theta = sp.symbols('r theta')\n",
    "x_polar = r * sp.cos(theta)\n",
    "y_polar = r * sp.sin(theta)\n",
    "\n",
    "# Переписываем integrand в полярных координатах\n",
    "integrand_polar = integrand.subs({x: x_polar, y: y_polar})\n",
    "\n",
    "# Якобиан перехода из (r, theta) в (x, y): r\n",
    "# Интеграл по r от 0 до 1, по theta от 0 до 2*pi\n",
    "double_integral = sp.integrate(\n",
    "    integrand_polar * r,\n",
    "    (r, 0, 1),\n",
    "    (theta, 0, 2 * sp.pi)\n",
    ")\n",
    "\n",
    "# Параметризация окружности для криволинейного интеграла\n",
    "x_t = sp.cos(t)\n",
    "y_t = sp.sin(t)\n",
    "\n",
    "# Подставляем в компоненты поля\n",
    "P_t = P.subs({x: x_t, y: y_t})\n",
    "Q_t = Q.subs({x: x_t, y: y_t})\n",
    "\n",
    "# Дифференциалы по t\n",
    "dx_dt = sp.diff(x_t, t)\n",
    "dy_dt = sp.diff(y_t, t)\n",
    "\n",
    "# Криволинейный интеграл\n",
    "line_integral = sp.integrate(P_t * dx_dt + Q_t * dy_dt, (t, 0, 2 * sp.pi))\n",
    "\n",
    "# Вывод формул\n",
    "print(\"Подынтегральное выражение для теоремы Грина (∂Q/∂x - ∂P/∂y):\")\n",
    "sp.pprint(integrand)\n",
    "print(\"\\nДвойной интеграл по области D (круг радиуса 1):\")\n",
    "sp.pprint(double_integral)\n",
    "print(\"\\nКриволинейный интеграл по окружности:\")\n",
    "sp.pprint(line_integral)\n",
    "\n",
    "# Вычисляем численные значения\n",
    "double_val = double_integral.evalf()\n",
    "line_val = line_integral.evalf()\n",
    "\n",
    "print(f\"\\nЧисленное значение двойного интеграла: {double_val}\")\n",
    "print(f\"Численное значение криволинейного интеграла: {line_val}\")\n",
    "\n",
    "# Проверка равенства\n",
    "equality = abs(double_val - line_val) < 1e-6\n",
    "print(f\"\\nРавенство интегралов подтверждается: {equality}\")"
   ]
  },
  {
   "cell_type": "code",
   "execution_count": null,
   "id": "5e876a3d-4d7c-4c0d-9eef-08a547595cab",
   "metadata": {},
   "outputs": [],
   "source": []
  }
 ],
 "metadata": {
  "kernelspec": {
   "display_name": "Python 3 (ipykernel)",
   "language": "python",
   "name": "python3"
  },
  "language_info": {
   "codemirror_mode": {
    "name": "ipython",
    "version": 3
   },
   "file_extension": ".py",
   "mimetype": "text/x-python",
   "name": "python",
   "nbconvert_exporter": "python",
   "pygments_lexer": "ipython3",
   "version": "3.9.12"
  }
 },
 "nbformat": 4,
 "nbformat_minor": 5
}
