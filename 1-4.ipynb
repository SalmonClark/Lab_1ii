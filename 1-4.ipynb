{
 "cells": [
  {
   "cell_type": "markdown",
   "id": "787ef835-9318-439b-b47b-95474c194b6b",
   "metadata": {},
   "source": [
    "# Практическое задание №1\n",
    "\n",
    "**Жирный текст** и *курсивный текст*.\n",
    "\n",
    "### Нумерованный список:\n",
    "1. Первый пункт\n",
    "2. Второй пункт\n",
    "3. Третий пункт\n",
    "\n",
    "### Маркированный список:\n",
    "- Элемент A\n",
    "- Элемент B\n",
    "- Элемент C\n",
    "\n",
    "### Формула:\n",
    "a² + b² = c²\n",
    "\n",
    "### Изображение:\n",
    "![Python Logo](https://upload.wikimedia.org/wikipedia/commons/thumb/c/c3/Python-logo-notext.svg/1200px-Python-logo-notext.svg.png)"
   ]
  },
  {
   "cell_type": "code",
   "execution_count": 2,
   "id": "256f9b10-60ae-45f7-9e8f-58500d60da3d",
   "metadata": {},
   "outputs": [
    {
     "name": "stdin",
     "output_type": "stream",
     "text": [
      "Пожалуйста, введите ваше имя:  bean\n"
     ]
    },
    {
     "name": "stdout",
     "output_type": "stream",
     "text": [
      "Привет, a! Добро пожаловать в JupyterLab !\n",
      "\n",
      "Пример вычисления: если a=3 и b=4, то c=5.0 (по теореме Пифагора)\n"
     ]
    }
   ],
   "source": [
    "\n",
    "a = input(\"Пожалуйста, введите ваше имя: \")\n",
    "print(f\"Привет, a! Добро пожаловать в JupyterLab !\")\n",
    "b, c = 3, 4\n",
    "d = (b**2 + c**2)**0.5\n",
    "print(f\"\\nПример вычисления: если a={b} и b={c}, то c={d} (по теореме Пифагора)\")"
   ]
  },
  {
   "cell_type": "code",
   "execution_count": 3,
   "id": "8a67d8c6-79a0-4fd2-9fa1-1c192a398a97",
   "metadata": {},
   "outputs": [
    {
     "name": "stdout",
     "output_type": "stream",
     "text": [
      "Содержимое файла:\n",
      " Первая строка\n",
      "Вторая строка\n",
      "\n",
      "Файл существует: True\n",
      "Файл удалён.\n"
     ]
    }
   ],
   "source": [
    "import os \n",
    "with open(\"example.txt\", \"w\") as f:\n",
    "    f.write(\"Первая строка\\n\")\n",
    "    f.write(\"Вторая строка\\n\")\n",
    "with open(\"example.txt\", \"r\") as f:\n",
    "    content = f.read()\n",
    "    print(\"Содержимое файла:\\n\", content)\n",
    "print(\"Файл существует:\", os.path.exists(\"example.txt\"))\n",
    "os.remove(\"example.txt\")\n",
    "print(\"Файл удалён.\")"
   ]
  },
  {
   "cell_type": "markdown",
   "id": "46d63be4-1908-4bfa-8b72-c6525f84cb94",
   "metadata": {},
   "source": [
    "%lsmagic"
   ]
  },
  {
   "cell_type": "code",
   "execution_count": 7,
   "id": "90298cb6-cee0-4f70-b912-3b1ec622d172",
   "metadata": {},
   "outputs": [
    {
     "name": "stdout",
     "output_type": "stream",
     "text": [
      " Том в устройстве C не имеет метки.\n",
      " Серийный номер тома: 4429-3FA4\n",
      "\n",
      " Содержимое папки C:\\Users\\home\n",
      "\n",
      "02.06.2025  22:22    <DIR>          .\n",
      "02.06.2025  22:22    <DIR>          ..\n",
      "12.10.2024  12:42    <DIR>          .Albion Online Launcher\n",
      "28.03.2024  20:32    <DIR>          .android\n",
      "14.04.2020  16:38    <DIR>          .cache\n",
      "02.06.2025  22:23    <DIR>          .conda\n",
      "19.02.2025  18:52                25 .condarc\n",
      "19.02.2025  18:51    <DIR>          .continuum\n",
      "28.03.2024  19:34    <DIR>          .dotnet\n",
      "06.04.2023  17:19    <DIR>          .idlerc\n",
      "02.06.2025  21:55    <DIR>          .ipynb_checkpoints\n",
      "19.02.2025  18:54    <DIR>          .ipython\n",
      "02.06.2025  21:54    <DIR>          .jupyter\n",
      "15.09.2022  14:51    <DIR>          .ms-ad\n",
      "22.12.2023  19:15               174 .packettracer\n",
      "12.10.2024  12:42    <DIR>          .QtWebEngineProcess\n",
      "28.03.2024  19:55    <DIR>          .templateengine\n",
      "17.12.2024  19:51    <DIR>          .VirtualBox\n",
      "16.03.2024  19:13    <DIR>          .vscode\n",
      "06.02.2022  16:09    <DIR>          3D Objects\n",
      "17.02.2025  10:16    <DIR>          anaconda3\n",
      "02.06.2025  17:01               383 bs-list.json\n",
      "11.05.2024  14:19    <DIR>          Cisco Packet Tracer 8.2.1\n",
      "06.02.2022  16:09    <DIR>          Contacts\n",
      "10.02.2024  20:43    <DIR>          curseforge\n",
      "12.11.2023  17:27               540 d3d_antilag.log\n",
      "02.06.2025  21:56    <DIR>          Desktop\n",
      "05.01.2022  16:07    <DIR>          DirectX\n",
      "02.06.2025  09:18    <DIR>          Documents\n",
      "02.06.2025  22:09    <DIR>          Downloads\n",
      "27.02.2025  22:18               103 e-country.json\n",
      "27.02.2025  22:18               167 e-user.json\n",
      "02.06.2025  17:01            30 655 ex-list2.json\n",
      "06.02.2022  16:09    <DIR>          Favorites\n",
      "06.04.2025  13:32    <DIR>          Games\n",
      "27.11.2022  13:21    <DIR>          Links\n",
      "06.02.2022  16:09    <DIR>          Music\n",
      "29.03.2025  22:00               364 node.dat\n",
      "03.03.2024  18:59    <DIR>          OneDrive\n",
      "21.04.2025  16:01    <DIR>          Pictures\n",
      "18.11.2024  20:20    <DIR>          PycharmProjects\n",
      "15.09.2024  17:23    <DIR>          Saved Games\n",
      "06.02.2022  16:25    <DIR>          Searches\n",
      "08.11.2023  21:39    <DIR>          source\n",
      "26.06.2020  23:23                74 untitled-1.py\n",
      "08.05.2020  12:39                48 untitled-2.py\n",
      "02.06.2025  22:22             5 950 Untitled.ipynb\n",
      "04.11.2024  20:56    <DIR>          Videos\n",
      "10.09.2024  19:30    <DIR>          VirtualBox VMs\n",
      "              11 файлов         38 483 байт\n",
      "              38 папок  12 122 394 624 байт свободно\n",
      " Том в устройстве C не имеет метки.\n",
      " Серийный номер тома: 4429-3FA4\n",
      "\n",
      " Содержимое папки C:\\Users\\home\n",
      "\n",
      "02.06.2025  22:23    <DIR>          .\n",
      "02.06.2025  22:23    <DIR>          ..\n",
      "12.10.2024  12:42    <DIR>          .Albion Online Launcher\n",
      "28.03.2024  20:32    <DIR>          .android\n",
      "14.04.2020  16:38    <DIR>          .cache\n",
      "02.06.2025  22:23    <DIR>          .conda\n",
      "19.02.2025  18:52                25 .condarc\n",
      "19.02.2025  18:51    <DIR>          .continuum\n",
      "28.03.2024  19:34    <DIR>          .dotnet\n",
      "06.04.2023  17:19    <DIR>          .idlerc\n",
      "02.06.2025  21:55    <DIR>          .ipynb_checkpoints\n",
      "19.02.2025  18:54    <DIR>          .ipython\n",
      "02.06.2025  21:54    <DIR>          .jupyter\n",
      "15.09.2022  14:51    <DIR>          .ms-ad\n",
      "22.12.2023  19:15               174 .packettracer\n",
      "12.10.2024  12:42    <DIR>          .QtWebEngineProcess\n",
      "28.03.2024  19:55    <DIR>          .templateengine\n",
      "17.12.2024  19:51    <DIR>          .VirtualBox\n",
      "16.03.2024  19:13    <DIR>          .vscode\n",
      "06.02.2022  16:09    <DIR>          3D Objects\n",
      "17.02.2025  10:16    <DIR>          anaconda3\n",
      "02.06.2025  17:01               383 bs-list.json\n",
      "11.05.2024  14:19    <DIR>          Cisco Packet Tracer 8.2.1\n",
      "06.02.2022  16:09    <DIR>          Contacts\n",
      "10.02.2024  20:43    <DIR>          curseforge\n",
      "12.11.2023  17:27               540 d3d_antilag.log\n",
      "02.06.2025  21:56    <DIR>          Desktop\n",
      "05.01.2022  16:07    <DIR>          DirectX\n",
      "02.06.2025  09:18    <DIR>          Documents\n",
      "02.06.2025  22:09    <DIR>          Downloads\n",
      "27.02.2025  22:18               103 e-country.json\n",
      "27.02.2025  22:18               167 e-user.json\n",
      "02.06.2025  17:01            30 655 ex-list2.json\n",
      "06.02.2022  16:09    <DIR>          Favorites\n",
      "06.04.2025  13:32    <DIR>          Games\n",
      "27.11.2022  13:21    <DIR>          Links\n",
      "06.02.2022  16:09    <DIR>          Music\n",
      "29.03.2025  22:00               364 node.dat\n",
      "03.03.2024  18:59    <DIR>          OneDrive\n",
      "21.04.2025  16:01    <DIR>          Pictures\n",
      "18.11.2024  20:20    <DIR>          PycharmProjects\n",
      "15.09.2024  17:23    <DIR>          Saved Games\n",
      "06.02.2022  16:25    <DIR>          Searches\n",
      "08.11.2023  21:39    <DIR>          source\n",
      "02.06.2025  22:23    <DIR>          test1_folder\n",
      "26.06.2020  23:23                74 untitled-1.py\n",
      "08.05.2020  12:39                48 untitled-2.py\n",
      "02.06.2025  22:22             5 950 Untitled.ipynb\n",
      "04.11.2024  20:56    <DIR>          Videos\n",
      "10.09.2024  19:30    <DIR>          VirtualBox VMs\n",
      "              11 файлов         38 483 байт\n",
      "              39 папок  12 122 394 624 байт свободно\n",
      "Перемещено файлов:         1.\n",
      " Том в устройстве C не имеет метки.\n",
      " Серийный номер тома: 4429-3FA4\n",
      "\n",
      " Содержимое папки C:\\Users\\home\\test1_folder\n",
      "\n",
      "02.06.2025  22:23    <DIR>          .\n",
      "02.06.2025  22:23    <DIR>          ..\n",
      "02.06.2025  22:23                 2 example.txt\n",
      "               1 файлов              2 байт\n",
      "               2 папок  12 122 361 856 байт свободно\n",
      " Том в устройстве C не имеет метки.\n",
      " Серийный номер тома: 4429-3FA4\n",
      "\n",
      " Содержимое папки C:\\Users\\home\\test1_folder\n",
      "\n",
      "02.06.2025  22:23    <DIR>          .\n",
      "02.06.2025  22:23    <DIR>          ..\n",
      "               0 файлов              0 байт\n",
      "               2 папок  12 122 361 856 байт свободно\n",
      "\f",
      "\n"
     ]
    }
   ],
   "source": [
    "!dir\n",
    "!mkdir test1_folder\n",
    "!dir\n",
    "!echo.> example.txt\n",
    "!move example.txt test1_folder/\n",
    "!dir test1_folder\n",
    "!del test1_folder\\example.txt\n",
    "!dir test1_folder\n",
    "%clear"
   ]
  },
  {
   "cell_type": "code",
   "execution_count": 11,
   "id": "c9207e15-26e9-4c36-80f6-a3eae9218c3b",
   "metadata": {},
   "outputs": [
    {
     "ename": "ModuleNotFoundError",
     "evalue": "No module named 'google.colab'",
     "output_type": "error",
     "traceback": [
      "\u001b[1;31m---------------------------------------------------------------------------\u001b[0m",
      "\u001b[1;31mModuleNotFoundError\u001b[0m                       Traceback (most recent call last)",
      "Input \u001b[1;32mIn [11]\u001b[0m, in \u001b[0;36m<cell line: 1>\u001b[1;34m()\u001b[0m\n\u001b[1;32m----> 1\u001b[0m \u001b[38;5;28;01mfrom\u001b[39;00m \u001b[38;5;21;01mgoogle\u001b[39;00m\u001b[38;5;21;01m.\u001b[39;00m\u001b[38;5;21;01mcolab\u001b[39;00m \u001b[38;5;28;01mimport\u001b[39;00m drive\n\u001b[0;32m      2\u001b[0m \u001b[38;5;66;03m# Подключение Google Drive\u001b[39;00m\n\u001b[0;32m      3\u001b[0m drive\u001b[38;5;241m.\u001b[39mmount(\u001b[38;5;124m'\u001b[39m\u001b[38;5;124m/content/drive\u001b[39m\u001b[38;5;124m'\u001b[39m)\n",
      "\u001b[1;31mModuleNotFoundError\u001b[0m: No module named 'google.colab'"
     ]
    }
   ],
   "source": [
    "from google.colab import drive\n",
    "# Подключение Google Drive\n",
    "drive.mount('/content/drive')\n",
    "# Запись текста в файл\n",
    "file_path = \"/content/drive/MyDrive/my_text_file.txt\"\n",
    "with open(file_path, \"w\") as f:\n",
    "  f.write(\"Это тестовый файл, сохраненный в Google Drive.\\n\")\n",
    "  f.write(\"Вторая строка текста.\")\n",
    "print(\"Файл успешно сохранен в Google Drive.\")\n",
    "# Чтение файла\n",
    "with open(file_path, \"r\") as f:\n",
    "    content = f.read()\n",
    "print(\"Содержимое файла:\\n\", content)\n",
    "# Создание CSV вручную\n",
    "students = [\n",
    "[\"Иванов И.И.\", 20, \"ИВТ-101\"],\n",
    "[\"Петров П.П.\", 22, \"ИВТ-102\"],\n",
    "[\"Сидорова А.А.\", 21, \"ИВТ-103\"]\n",
    "]\n",
    "csv_path = \"/content/drive/MyDrive/students.csv\"\n",
    "with open(csv_path, \"w\") as f:\n",
    "  for student in students:\n",
    "    f.write(\",\".join(map(str, student)) + \"\\n\")\n",
    "print(\"Файл students.csv успешно сохранен в Google Drive.\")"
   ]
  },
  {
   "cell_type": "code",
   "execution_count": null,
   "id": "ad5d6060-fa9c-4fff-bdbd-3740b47ca448",
   "metadata": {},
   "outputs": [],
   "source": []
  },
  {
   "cell_type": "code",
   "execution_count": null,
   "id": "be133b56-0c09-474d-aec4-558d52797496",
   "metadata": {},
   "outputs": [],
   "source": []
  },
  {
   "cell_type": "code",
   "execution_count": null,
   "id": "7e903e91-f9da-43e5-8496-28b7f81f96b5",
   "metadata": {},
   "outputs": [],
   "source": []
  }
 ],
 "metadata": {
  "kernelspec": {
   "display_name": "Python 3 (ipykernel)",
   "language": "python",
   "name": "python3"
  },
  "language_info": {
   "codemirror_mode": {
    "name": "ipython",
    "version": 3
   },
   "file_extension": ".py",
   "mimetype": "text/x-python",
   "name": "python",
   "nbconvert_exporter": "python",
   "pygments_lexer": "ipython3",
   "version": "3.9.12"
  }
 },
 "nbformat": 4,
 "nbformat_minor": 5
}
